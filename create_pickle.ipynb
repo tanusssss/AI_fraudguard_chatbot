{
 "cells": [
  {
   "cell_type": "code",
   "execution_count": 2,
   "id": "cf44a246",
   "metadata": {},
   "outputs": [
    {
     "name": "stderr",
     "output_type": "stream",
     "text": [
      "c:\\Users\\Admin\\Desktop\\MLproject\\frauddetection\\fraudguard-ai-chatbot\\venv\\lib\\site-packages\\sklearn\\feature_selection\\_univariate_selection.py:110: UserWarning: Features [17] are constant.\n",
      "  warnings.warn(\"Features %s are constant.\" % constant_features_idx, UserWarning)\n",
      "c:\\Users\\Admin\\Desktop\\MLproject\\frauddetection\\fraudguard-ai-chatbot\\venv\\lib\\site-packages\\sklearn\\feature_selection\\_univariate_selection.py:111: RuntimeWarning: invalid value encountered in divide\n",
      "  f = msb / msw\n"
     ]
    }
   ],
   "source": [
    "from ml_model.model_class import FraudDetectionModel\n",
    "import pandas as pd\n",
    "\n",
    "# Load your train_df\n",
    "train_df = pd.read_csv(\"data\\output_part_1.csv\")\n",
    "\n",
    "model = FraudDetectionModel()\n",
    "model.train(train_df)\n",
    "model.save_model(\"ml_model/fraud_detection_model.pkl\")\n"
   ]
  },
  {
   "cell_type": "code",
   "execution_count": null,
   "id": "9ff1cc3d",
   "metadata": {},
   "outputs": [],
   "source": []
  },
  {
   "cell_type": "code",
   "execution_count": null,
   "id": "a6f73a35",
   "metadata": {},
   "outputs": [],
   "source": []
  }
 ],
 "metadata": {
  "kernelspec": {
   "display_name": "Python 3",
   "language": "python",
   "name": "python3"
  },
  "language_info": {
   "codemirror_mode": {
    "name": "ipython",
    "version": 3
   },
   "file_extension": ".py",
   "mimetype": "text/x-python",
   "name": "python",
   "nbconvert_exporter": "python",
   "pygments_lexer": "ipython3",
   "version": "3.10.18"
  }
 },
 "nbformat": 4,
 "nbformat_minor": 5
}
